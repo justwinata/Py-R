{
 "cells": [
  {
   "cell_type": "markdown",
   "metadata": {},
   "source": [
    "# Session 9 - Plotting\n",
    "Here we will cover some basic plotting capabilities that R has. Again, we will not go too in-depth, since we want to focus more on PowerBI. As we did in the Python portion, we will just do demonstrations inside of the Notebook -- no need to open RStudio."
   ]
  },
  {
   "cell_type": "markdown",
   "metadata": {},
   "source": [
    "We'll use the iris dataset again, which is actually built in to R:"
   ]
  },
  {
   "cell_type": "code",
   "execution_count": null,
   "metadata": {},
   "outputs": [],
   "source": [
    "View(iris)"
   ]
  },
  {
   "cell_type": "code",
   "execution_count": null,
   "metadata": {},
   "outputs": [],
   "source": [
    "colnames(iris)\n",
    "nrow(iris)"
   ]
  },
  {
   "cell_type": "code",
   "execution_count": null,
   "metadata": {},
   "outputs": [],
   "source": [
    "#We will use below site to copy sample code and discuss syntax\n",
    "browseURL(\"https://www.mailman.columbia.edu/sites/default/files/media/fdawg_ggplot2.html\")"
   ]
  },
  {
   "cell_type": "code",
   "execution_count": null,
   "metadata": {},
   "outputs": [],
   "source": [
    "#Create XY plot\n",
    "plot(x=iris$Sepal.Length, y=iris$Sepal.Width, \n",
    "     xlab=\"Sepal Length\", ylab=\"Sepal Width\",  main=\"My Sepal Length-Width\")"
   ]
  },
  {
   "cell_type": "code",
   "execution_count": null,
   "metadata": {},
   "outputs": [],
   "source": [
    "#Create simple line plot\n",
    "plot(iris$Sepal.Length)"
   ]
  },
  {
   "cell_type": "code",
   "execution_count": null,
   "metadata": {},
   "outputs": [],
   "source": [
    "#Plot 2 charts side by side & plot 2 stacked\n",
    "browseURL(\"https://www.statmethods.net/advgraphs/layout.html\")\n",
    "dev.off()\n",
    "par(mfrow=c(1,2))\n",
    "plot(iris$Sepal.Width)\n",
    "plot(iris$Sepal.Length)\n",
    "dev.off()"
   ]
  },
  {
   "cell_type": "code",
   "execution_count": null,
   "metadata": {},
   "outputs": [],
   "source": [
    "####Section 1 | Scatter Plot"
   ]
  },
  {
   "cell_type": "code",
   "execution_count": null,
   "metadata": {},
   "outputs": [],
   "source": [
    "# 1 R basic plot\n",
    "plot(x=iris$Sepal.Length, y=iris$Sepal.Width, \n",
    "     xlab=\"Sepal Length\", ylab=\"Sepal Width\",  main=\"My Sepal Length-Width\")"
   ]
  },
  {
   "cell_type": "code",
   "execution_count": null,
   "metadata": {},
   "outputs": [],
   "source": [
    "# 2 ggplot2 plot 1\n",
    "library(ggplot2)\n",
    "scatter <- ggplot(data=iris, aes(x = Sepal.Length, y = Sepal.Width)) \n",
    "scatter"
   ]
  },
  {
   "cell_type": "code",
   "execution_count": null,
   "metadata": {},
   "outputs": [],
   "source": [
    "scatter + geom_point(aes(color=Species, shape=Species)) +\n",
    "  xlab(\"Sepal Length\") +  ylab(\"Sepal Width\") +\n",
    "  ggtitle(\"Sepal Length-Width\")"
   ]
  },
  {
   "cell_type": "code",
   "execution_count": null,
   "metadata": {},
   "outputs": [],
   "source": [
    "# 3 ggplot2 plot 2\n",
    "scatter + geom_point(aes(color = Petal.Width, shape = Species), size = 4, alpha = I(1/2)) +\n",
    "  geom_vline(aes(xintercept = mean(Sepal.Length)), color = \"red\", linetype = \"dashed\") +\n",
    "  geom_hline(aes(yintercept = mean(Sepal.Width)), color = \"red\", linetype = \"dashed\") +\n",
    "  scale_color_gradient(low = \"yellow\", high = \"red\") +\n",
    "  xlab(\"Sepal Length\") +  ylab(\"Sepal Width\") +\n",
    "  ggtitle(\"Sepal Length-Width\")"
   ]
  },
  {
   "cell_type": "code",
   "execution_count": null,
   "metadata": {},
   "outputs": [],
   "source": [
    "####Section 2 | Box Plot"
   ]
  },
  {
   "cell_type": "code",
   "execution_count": null,
   "metadata": {},
   "outputs": [],
   "source": [
    "# 1 R basic plot\n",
    "boxplot(Sepal.Length~Species,data=iris, \n",
    "        xlab=\"Species\", ylab=\"Sepal Length\", main=\"Iris Boxplot\")"
   ]
  },
  {
   "cell_type": "code",
   "execution_count": null,
   "metadata": {},
   "outputs": [],
   "source": [
    "# 2 ggplot2 plot\n",
    "library(ggplot2)\n",
    "box <- ggplot(data=iris, aes(x=Species, y=Sepal.Length))\n",
    "box"
   ]
  },
  {
   "cell_type": "code",
   "execution_count": null,
   "metadata": {},
   "outputs": [],
   "source": [
    "box + geom_boxplot(aes(fill=Species)) + \n",
    "  ylab(\"Sepal Length\") + ggtitle(\"Iris Boxplot\") +\n",
    "  stat_summary(fun.y=mean, geom=\"point\", shape=5, size=4) "
   ]
  },
  {
   "cell_type": "code",
   "execution_count": null,
   "metadata": {},
   "outputs": [],
   "source": [
    "####Section 3 | Histogram"
   ]
  },
  {
   "cell_type": "code",
   "execution_count": null,
   "metadata": {},
   "outputs": [],
   "source": [
    "# 1 R basic plot\n",
    "hist(iris$Sepal.Width, freq=NULL, density=NULL, breaks=12,\n",
    "     xlab=\"Sepal Width\", ylab=\"Frequency\", main=\"Histogram of Sepal Width\")"
   ]
  },
  {
   "cell_type": "code",
   "execution_count": null,
   "metadata": {},
   "outputs": [],
   "source": [
    "# 2 ggplot2 plot\n",
    "library(ggplot2)\n",
    "histogram <- ggplot(data=iris, aes(x=Sepal.Width))\n",
    "histogram + geom_histogram(binwidth=0.2, color=\"black\", aes(fill=Species)) + \n",
    "  xlab(\"Sepal Width\") +  ylab(\"Frequency\") + ggtitle(\"Histogram of Sepal Width\")"
   ]
  },
  {
   "cell_type": "code",
   "execution_count": null,
   "metadata": {},
   "outputs": [],
   "source": [
    "####Saving histogram plot\n",
    "browseURL(\"https://ggplot2.tidyverse.org/reference/ggsave.html\")\n",
    "getwd()\n",
    "setwd(choose.dir())\n",
    "ggsave(\"histogram.jpg\", width = 80, height = 40, units = \"cm\")"
   ]
  },
  {
   "cell_type": "code",
   "execution_count": null,
   "metadata": {},
   "outputs": [],
   "source": [
    "#Additional resources to support chart creation\n",
    "browseURL(\"https://www.rstudio.com/wp-content/uploads/2015/03/ggplot2-cheatsheet.pdf\")\n",
    "browseURL(\"https://ggplot2.tidyverse.org/\")\n",
    "browseURL(\"http://www.sthda.com/english/wiki/ggplot2-error-bars-quick-start-guide-r-software-and-data-visualization\")"
   ]
  }
 ],
 "metadata": {
  "kernelspec": {
   "display_name": "R",
   "language": "R",
   "name": "ir"
  }
 },
 "nbformat": 4,
 "nbformat_minor": 2
}
