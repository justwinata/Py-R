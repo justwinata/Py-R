{
 "cells": [
  {
   "cell_type": "markdown",
   "metadata": {
    "slideshow": {
     "slide_type": "slide"
    }
   },
   "source": [
    "# Session 2 -- Single Structured File\n",
    "\n",
    "In this session, we will be covering how to load a single file into a `DataFrame`, as well as some ways to interact with a `DataFrame`."
   ]
  },
  {
   "cell_type": "markdown",
   "metadata": {
    "slideshow": {
     "slide_type": "slide"
    }
   },
   "source": [
    "## Packages\n",
    "First of all, we need to import some packages.\n",
    "### `os`\n",
    "The `os` package enables us to interface with the operating system, particularly with files, environment variables, and command line arguments. We will mostly be using it to interact with files."
   ]
  },
  {
   "cell_type": "code",
   "execution_count": 8,
   "metadata": {
    "slideshow": {
     "slide_type": "fragment"
    }
   },
   "outputs": [],
   "source": [
    "import os"
   ]
  },
  {
   "cell_type": "markdown",
   "metadata": {
    "slideshow": {
     "slide_type": "slide"
    }
   },
   "source": [
    "### `pandas`\n",
    "As covered in the previous session, `pandas` gives us access to the `DataFrame` class and all its functions, as well as some file processing functions that can convert many file formats like .csv, .xls, .tsv, flat-width files, and even database queries.\n",
    "\n",
    "In order to save some typing, the `import` function actually allows us to give an alias to imported libraries. A very common one you will see is using `pd` for `pandas`, so we will do that here. Give an `import` an alias with the `as` command."
   ]
  },
  {
   "cell_type": "code",
   "execution_count": 9,
   "metadata": {
    "slideshow": {
     "slide_type": "fragment"
    }
   },
   "outputs": [],
   "source": [
    "import pandas as pd"
   ]
  },
  {
   "cell_type": "markdown",
   "metadata": {
    "slideshow": {
     "slide_type": "slide"
    }
   },
   "source": [
    "### `datetime`\n",
    "The `datetime` package gives us access to date- and time-related objects. This is more useful then just having a `str` type date, as `datetime` objects give us access to each unit of a date or time (year, month, days, hours, minutes, seconds, micro-seconds), and can enable us to convert formatting easily as well.  \n",
    "For this session, we will only be using the `datetime` object from the `datetime` package (slightly confusing, I know), so use the `from` command."
   ]
  },
  {
   "cell_type": "code",
   "execution_count": 10,
   "metadata": {
    "slideshow": {
     "slide_type": "fragment"
    }
   },
   "outputs": [],
   "source": [
    "from datetime import datetime"
   ]
  },
  {
   "cell_type": "markdown",
   "metadata": {
    "slideshow": {
     "slide_type": "slide"
    }
   },
   "source": [
    "## Getting the File\n",
    "\n",
    "We have in our data folder some sample data. If you open it, you will see that it is already nicely structured -- the first row is for column header names, the rest of the file is all data. there is no data outside of the table, and the table is uniform and has data in every every column for every row.\n",
    "\n",
    "To gain access to this file, we will need to get its filepath as a string. We'll assign it to a variable `infile`. Change the filepath to match where you saved yours:"
   ]
  },
  {
   "cell_type": "code",
   "execution_count": 1,
   "metadata": {
    "slideshow": {
     "slide_type": "fragment"
    }
   },
   "outputs": [
    {
     "ename": "SyntaxError",
     "evalue": "(unicode error) 'unicodeescape' codec can't decode bytes in position 2-3: truncated \\UXXXXXXXX escape (<ipython-input-1-dc5ab235ac2e>, line 1)",
     "output_type": "error",
     "traceback": [
      "\u001b[1;36m  File \u001b[1;32m\"<ipython-input-1-dc5ab235ac2e>\"\u001b[1;36m, line \u001b[1;32m1\u001b[0m\n\u001b[1;33m    infile = \"C:\\Users\\161289\\Py-R\\data\\session2\\session2data.csv\"\u001b[0m\n\u001b[1;37m            ^\u001b[0m\n\u001b[1;31mSyntaxError\u001b[0m\u001b[1;31m:\u001b[0m (unicode error) 'unicodeescape' codec can't decode bytes in position 2-3: truncated \\UXXXXXXXX escape\n"
     ]
    }
   ],
   "source": [
    "infile = \"C:\\Users\\161289\\Py-R\\data\\session2\\session2data.csv\""
   ]
  },
  {
   "cell_type": "markdown",
   "metadata": {
    "slideshow": {
     "slide_type": "slide"
    }
   },
   "source": [
    "You'll see that this errored out. This is due to the '`\\`' -- this is a special character. It might not seem so special by itself, but when combined with certain other characters, it is used to denote special characters.  \n",
    "For example, `\\n` is used to represent a newline character."
   ]
  },
  {
   "cell_type": "code",
   "execution_count": 2,
   "metadata": {
    "slideshow": {
     "slide_type": "fragment"
    }
   },
   "outputs": [
    {
     "name": "stdout",
     "output_type": "stream",
     "text": [
      "this is\n",
      "a new line\n"
     ]
    }
   ],
   "source": [
    "print (\"this is\\na new line\")"
   ]
  },
  {
   "cell_type": "markdown",
   "metadata": {
    "slideshow": {
     "slide_type": "slide"
    }
   },
   "source": [
    "In order to bypass these special characters and to let Python know that you are trying to actually use a `\\` character, you would use a second `\\` to \"escape\" special character sequences."
   ]
  },
  {
   "cell_type": "code",
   "execution_count": 3,
   "metadata": {
    "slideshow": {
     "slide_type": "fragment"
    }
   },
   "outputs": [
    {
     "name": "stdout",
     "output_type": "stream",
     "text": [
      "this is\\nnot a new line\n"
     ]
    }
   ],
   "source": [
    "print (\"this is\\\\nnot a new line\")"
   ]
  },
  {
   "cell_type": "markdown",
   "metadata": {
    "slideshow": {
     "slide_type": "slide"
    }
   },
   "source": [
    "Note that doing this \"escape\" results in just one `\\` being printed. \n",
    "The following are special character sequences: \n",
    "- `\\newline`\n",
    "- `\\\\`\n",
    "- `\\'`\n",
    "- `\\\"`\n",
    "- `\\a`\n",
    "- `\\b`\n",
    "- `\\f`\n",
    "- `\\n`\n",
    "- `\\N`\n",
    "- `\\r`\n",
    "- `\\t`\n",
    "- `\\u`\n",
    "- `\\U`\n",
    "- `\\v`\n",
    "- `\\`(`0`...`9`) (any digit between 0 and 9)\n",
    "- `\\x`\n"
   ]
  },
  {
   "cell_type": "markdown",
   "metadata": {
    "slideshow": {
     "slide_type": "slide"
    }
   },
   "source": [
    "So as you can see, the path I attempted to create violates the `\\U` sequence, which expects numbers after the `U` in order to create a `Unicode` sequence of numbers. So let's escape that `\\U` by using a second `\\` character:"
   ]
  },
  {
   "cell_type": "code",
   "execution_count": 4,
   "metadata": {
    "slideshow": {
     "slide_type": "fragment"
    }
   },
   "outputs": [],
   "source": [
    "infile = \"C:\\\\Users\\161289\\Py-R\\data\\session2\\session2data.csv\""
   ]
  },
  {
   "cell_type": "markdown",
   "metadata": {
    "slideshow": {
     "slide_type": "fragment"
    }
   },
   "source": [
    "Looks like it ran successfully! However, if you check what the value of infile is, you will see that there is an issue here:"
   ]
  },
  {
   "cell_type": "code",
   "execution_count": 5,
   "metadata": {
    "slideshow": {
     "slide_type": "fragment"
    }
   },
   "outputs": [
    {
     "data": {
      "text/plain": [
       "'C:\\\\Usersq289\\\\Py-R\\\\data\\\\session2\\\\session2data.csv'"
      ]
     },
     "execution_count": 5,
     "metadata": {},
     "output_type": "execute_result"
    }
   ],
   "source": [
    "infile"
   ]
  },
  {
   "cell_type": "markdown",
   "metadata": {
    "slideshow": {
     "slide_type": "fragment"
    }
   },
   "source": [
    "You'll also see that we violated the `\\`(`0`...`9`) sequence. When three numeric characters are after a backslash, Python recognizes that as an octal character. So let's escape that character as well."
   ]
  },
  {
   "cell_type": "code",
   "execution_count": null,
   "metadata": {
    "slideshow": {
     "slide_type": "slide"
    }
   },
   "outputs": [],
   "source": [
    "infile = \"C:\\\\Users\\\\161289\\Py-R\\data\\session2\\session2data.csv\"\n",
    "infile"
   ]
  },
  {
   "cell_type": "markdown",
   "metadata": {
    "slideshow": {
     "slide_type": "fragment"
    }
   },
   "source": [
    "So finally, we got what we wanted. You might be thinking this is very tedious and annoying, especially given that Python might not even raise an error or warn you when such a thing might be happening. This requires a lot of precision and is prone to error!  \n",
    "However, luckily, there is an easy way to process all of these -- using the character `r` as a prefix.  \n",
    "This `r` can be thought of as a tag to process the string `raw`."
   ]
  },
  {
   "cell_type": "code",
   "execution_count": 11,
   "metadata": {
    "slideshow": {
     "slide_type": "fragment"
    }
   },
   "outputs": [
    {
     "data": {
      "text/plain": [
       "'C:\\\\Users\\\\161289\\\\Py-R\\\\data\\\\session2\\\\session2data.csv'"
      ]
     },
     "execution_count": 11,
     "metadata": {},
     "output_type": "execute_result"
    }
   ],
   "source": [
    "infile = r\"C:\\Users\\161289\\Py-R\\data\\session2\\session2data.csv\"\n",
    "infile"
   ]
  },
  {
   "cell_type": "markdown",
   "metadata": {
    "slideshow": {
     "slide_type": "fragment"
    }
   },
   "source": [
    "And you'll see here that we have the desired path that we wanted. "
   ]
  },
  {
   "cell_type": "markdown",
   "metadata": {
    "slideshow": {
     "slide_type": "slide"
    }
   },
   "source": [
    "## Converting the File to a `DataFrame`\n",
    "\n",
    "We have actually already seen this in our previous session, when we were going over dot notation. To convert a file to a `DataFrame`, we can use the `read_csv()` function of pandas. Inside the parenthesis of the function, we will provide the path of the file we desire to read. We'll give this `DataFrame` the name `df0`. Also, remember that we gave `pandas` the alias of `pd`, so when calling the function, that is what we will refer to it as."
   ]
  },
  {
   "cell_type": "code",
   "execution_count": 12,
   "metadata": {
    "slideshow": {
     "slide_type": "fragment"
    }
   },
   "outputs": [],
   "source": [
    "df0 = pd.read_csv(infile)"
   ]
  },
  {
   "cell_type": "markdown",
   "metadata": {
    "slideshow": {
     "slide_type": "slide"
    }
   },
   "source": [
    "Just to confirm the contents of `df0`, let's call it here:"
   ]
  },
  {
   "cell_type": "code",
   "execution_count": 13,
   "metadata": {
    "slideshow": {
     "slide_type": "fragment"
    }
   },
   "outputs": [
    {
     "data": {
      "text/html": [
       "<div>\n",
       "<style scoped>\n",
       "    .dataframe tbody tr th:only-of-type {\n",
       "        vertical-align: middle;\n",
       "    }\n",
       "\n",
       "    .dataframe tbody tr th {\n",
       "        vertical-align: top;\n",
       "    }\n",
       "\n",
       "    .dataframe thead th {\n",
       "        text-align: right;\n",
       "    }\n",
       "</style>\n",
       "<table border=\"1\" class=\"dataframe\">\n",
       "  <thead>\n",
       "    <tr style=\"text-align: right;\">\n",
       "      <th></th>\n",
       "      <th>DateTime</th>\n",
       "      <th>Recipe</th>\n",
       "      <th>Step</th>\n",
       "      <th>Interval</th>\n",
       "      <th>Pressure</th>\n",
       "      <th>GasFlow</th>\n",
       "      <th>ElectricalPower</th>\n",
       "      <th>Temperature</th>\n",
       "    </tr>\n",
       "  </thead>\n",
       "  <tbody>\n",
       "    <tr>\n",
       "      <th>0</th>\n",
       "      <td>4/2/19 11:00 AM</td>\n",
       "      <td>Etching101</td>\n",
       "      <td>1</td>\n",
       "      <td>1</td>\n",
       "      <td>0.0</td>\n",
       "      <td>0.0</td>\n",
       "      <td>0</td>\n",
       "      <td>60.1</td>\n",
       "    </tr>\n",
       "    <tr>\n",
       "      <th>1</th>\n",
       "      <td>4/2/19 11:00 AM</td>\n",
       "      <td>Etching101</td>\n",
       "      <td>1</td>\n",
       "      <td>2</td>\n",
       "      <td>5.2</td>\n",
       "      <td>13.0</td>\n",
       "      <td>0</td>\n",
       "      <td>60.0</td>\n",
       "    </tr>\n",
       "    <tr>\n",
       "      <th>2</th>\n",
       "      <td>4/2/19 11:00 AM</td>\n",
       "      <td>Etching101</td>\n",
       "      <td>1</td>\n",
       "      <td>3</td>\n",
       "      <td>7.0</td>\n",
       "      <td>17.5</td>\n",
       "      <td>0</td>\n",
       "      <td>60.1</td>\n",
       "    </tr>\n",
       "    <tr>\n",
       "      <th>3</th>\n",
       "      <td>4/2/19 11:00 AM</td>\n",
       "      <td>Etching101</td>\n",
       "      <td>1</td>\n",
       "      <td>4</td>\n",
       "      <td>12.0</td>\n",
       "      <td>30.0</td>\n",
       "      <td>0</td>\n",
       "      <td>60.2</td>\n",
       "    </tr>\n",
       "    <tr>\n",
       "      <th>4</th>\n",
       "      <td>4/2/19 11:00 AM</td>\n",
       "      <td>Etching101</td>\n",
       "      <td>1</td>\n",
       "      <td>5</td>\n",
       "      <td>18.0</td>\n",
       "      <td>45.0</td>\n",
       "      <td>0</td>\n",
       "      <td>60.1</td>\n",
       "    </tr>\n",
       "    <tr>\n",
       "      <th>5</th>\n",
       "      <td>4/2/19 11:00 AM</td>\n",
       "      <td>Etching101</td>\n",
       "      <td>1</td>\n",
       "      <td>6</td>\n",
       "      <td>25.0</td>\n",
       "      <td>62.5</td>\n",
       "      <td>0</td>\n",
       "      <td>60.0</td>\n",
       "    </tr>\n",
       "    <tr>\n",
       "      <th>6</th>\n",
       "      <td>4/2/19 11:00 AM</td>\n",
       "      <td>Etching101</td>\n",
       "      <td>1</td>\n",
       "      <td>7</td>\n",
       "      <td>23.0</td>\n",
       "      <td>57.5</td>\n",
       "      <td>0</td>\n",
       "      <td>60.0</td>\n",
       "    </tr>\n",
       "    <tr>\n",
       "      <th>7</th>\n",
       "      <td>4/2/19 11:00 AM</td>\n",
       "      <td>Etching101</td>\n",
       "      <td>1</td>\n",
       "      <td>8</td>\n",
       "      <td>19.0</td>\n",
       "      <td>47.5</td>\n",
       "      <td>0</td>\n",
       "      <td>60.1</td>\n",
       "    </tr>\n",
       "    <tr>\n",
       "      <th>8</th>\n",
       "      <td>4/2/19 11:00 AM</td>\n",
       "      <td>Etching101</td>\n",
       "      <td>1</td>\n",
       "      <td>9</td>\n",
       "      <td>20.0</td>\n",
       "      <td>50.0</td>\n",
       "      <td>0</td>\n",
       "      <td>60.0</td>\n",
       "    </tr>\n",
       "    <tr>\n",
       "      <th>9</th>\n",
       "      <td>4/2/19 11:00 AM</td>\n",
       "      <td>Etching101</td>\n",
       "      <td>2</td>\n",
       "      <td>10</td>\n",
       "      <td>21.0</td>\n",
       "      <td>50.0</td>\n",
       "      <td>52</td>\n",
       "      <td>60.0</td>\n",
       "    </tr>\n",
       "    <tr>\n",
       "      <th>10</th>\n",
       "      <td>4/2/19 11:00 AM</td>\n",
       "      <td>Etching101</td>\n",
       "      <td>2</td>\n",
       "      <td>11</td>\n",
       "      <td>19.0</td>\n",
       "      <td>50.0</td>\n",
       "      <td>102</td>\n",
       "      <td>60.1</td>\n",
       "    </tr>\n",
       "    <tr>\n",
       "      <th>11</th>\n",
       "      <td>4/2/19 11:00 AM</td>\n",
       "      <td>Etching101</td>\n",
       "      <td>2</td>\n",
       "      <td>12</td>\n",
       "      <td>23.0</td>\n",
       "      <td>52.0</td>\n",
       "      <td>104</td>\n",
       "      <td>60.2</td>\n",
       "    </tr>\n",
       "    <tr>\n",
       "      <th>12</th>\n",
       "      <td>4/2/19 11:00 AM</td>\n",
       "      <td>Etching101</td>\n",
       "      <td>2</td>\n",
       "      <td>13</td>\n",
       "      <td>20.0</td>\n",
       "      <td>49.0</td>\n",
       "      <td>103</td>\n",
       "      <td>60.3</td>\n",
       "    </tr>\n",
       "    <tr>\n",
       "      <th>13</th>\n",
       "      <td>4/2/19 11:00 AM</td>\n",
       "      <td>Etching101</td>\n",
       "      <td>2</td>\n",
       "      <td>14</td>\n",
       "      <td>20.0</td>\n",
       "      <td>49.0</td>\n",
       "      <td>103</td>\n",
       "      <td>60.4</td>\n",
       "    </tr>\n",
       "    <tr>\n",
       "      <th>14</th>\n",
       "      <td>4/2/19 11:00 AM</td>\n",
       "      <td>Etching101</td>\n",
       "      <td>2</td>\n",
       "      <td>15</td>\n",
       "      <td>21.0</td>\n",
       "      <td>50.0</td>\n",
       "      <td>107</td>\n",
       "      <td>60.5</td>\n",
       "    </tr>\n",
       "    <tr>\n",
       "      <th>15</th>\n",
       "      <td>4/2/19 11:00 AM</td>\n",
       "      <td>Etching101</td>\n",
       "      <td>2</td>\n",
       "      <td>16</td>\n",
       "      <td>22.0</td>\n",
       "      <td>50.0</td>\n",
       "      <td>108</td>\n",
       "      <td>60.6</td>\n",
       "    </tr>\n",
       "    <tr>\n",
       "      <th>16</th>\n",
       "      <td>4/2/19 11:00 AM</td>\n",
       "      <td>Etching101</td>\n",
       "      <td>2</td>\n",
       "      <td>17</td>\n",
       "      <td>21.0</td>\n",
       "      <td>49.0</td>\n",
       "      <td>107</td>\n",
       "      <td>60.7</td>\n",
       "    </tr>\n",
       "    <tr>\n",
       "      <th>17</th>\n",
       "      <td>4/2/19 11:00 AM</td>\n",
       "      <td>Etching101</td>\n",
       "      <td>2</td>\n",
       "      <td>18</td>\n",
       "      <td>23.0</td>\n",
       "      <td>49.0</td>\n",
       "      <td>99</td>\n",
       "      <td>60.8</td>\n",
       "    </tr>\n",
       "    <tr>\n",
       "      <th>18</th>\n",
       "      <td>4/2/19 11:00 AM</td>\n",
       "      <td>Etching101</td>\n",
       "      <td>2</td>\n",
       "      <td>19</td>\n",
       "      <td>22.0</td>\n",
       "      <td>50.0</td>\n",
       "      <td>106</td>\n",
       "      <td>60.9</td>\n",
       "    </tr>\n",
       "    <tr>\n",
       "      <th>19</th>\n",
       "      <td>4/2/19 11:00 AM</td>\n",
       "      <td>Etching101</td>\n",
       "      <td>2</td>\n",
       "      <td>20</td>\n",
       "      <td>19.0</td>\n",
       "      <td>50.0</td>\n",
       "      <td>101</td>\n",
       "      <td>61.0</td>\n",
       "    </tr>\n",
       "    <tr>\n",
       "      <th>20</th>\n",
       "      <td>4/2/19 11:00 AM</td>\n",
       "      <td>Etching101</td>\n",
       "      <td>2</td>\n",
       "      <td>21</td>\n",
       "      <td>21.0</td>\n",
       "      <td>50.0</td>\n",
       "      <td>103</td>\n",
       "      <td>61.1</td>\n",
       "    </tr>\n",
       "    <tr>\n",
       "      <th>21</th>\n",
       "      <td>4/2/19 11:00 AM</td>\n",
       "      <td>Etching101</td>\n",
       "      <td>2</td>\n",
       "      <td>22</td>\n",
       "      <td>23.0</td>\n",
       "      <td>52.0</td>\n",
       "      <td>103</td>\n",
       "      <td>61.2</td>\n",
       "    </tr>\n",
       "    <tr>\n",
       "      <th>22</th>\n",
       "      <td>4/2/19 11:00 AM</td>\n",
       "      <td>Etching101</td>\n",
       "      <td>2</td>\n",
       "      <td>23</td>\n",
       "      <td>20.0</td>\n",
       "      <td>53.0</td>\n",
       "      <td>102</td>\n",
       "      <td>61.3</td>\n",
       "    </tr>\n",
       "    <tr>\n",
       "      <th>23</th>\n",
       "      <td>4/2/19 11:00 AM</td>\n",
       "      <td>Etching101</td>\n",
       "      <td>2</td>\n",
       "      <td>24</td>\n",
       "      <td>23.0</td>\n",
       "      <td>52.0</td>\n",
       "      <td>102</td>\n",
       "      <td>61.4</td>\n",
       "    </tr>\n",
       "    <tr>\n",
       "      <th>24</th>\n",
       "      <td>4/2/19 11:00 AM</td>\n",
       "      <td>Etching101</td>\n",
       "      <td>2</td>\n",
       "      <td>25</td>\n",
       "      <td>23.0</td>\n",
       "      <td>51.0</td>\n",
       "      <td>104</td>\n",
       "      <td>61.5</td>\n",
       "    </tr>\n",
       "    <tr>\n",
       "      <th>25</th>\n",
       "      <td>4/2/19 11:00 AM</td>\n",
       "      <td>Etching101</td>\n",
       "      <td>2</td>\n",
       "      <td>26</td>\n",
       "      <td>22.0</td>\n",
       "      <td>52.0</td>\n",
       "      <td>105</td>\n",
       "      <td>61.6</td>\n",
       "    </tr>\n",
       "    <tr>\n",
       "      <th>26</th>\n",
       "      <td>4/2/19 11:00 AM</td>\n",
       "      <td>Etching101</td>\n",
       "      <td>2</td>\n",
       "      <td>27</td>\n",
       "      <td>21.0</td>\n",
       "      <td>53.0</td>\n",
       "      <td>107</td>\n",
       "      <td>61.7</td>\n",
       "    </tr>\n",
       "    <tr>\n",
       "      <th>27</th>\n",
       "      <td>4/2/19 11:00 AM</td>\n",
       "      <td>Etching101</td>\n",
       "      <td>2</td>\n",
       "      <td>28</td>\n",
       "      <td>23.0</td>\n",
       "      <td>51.0</td>\n",
       "      <td>100</td>\n",
       "      <td>61.8</td>\n",
       "    </tr>\n",
       "    <tr>\n",
       "      <th>28</th>\n",
       "      <td>4/2/19 11:00 AM</td>\n",
       "      <td>Etching101</td>\n",
       "      <td>2</td>\n",
       "      <td>29</td>\n",
       "      <td>20.0</td>\n",
       "      <td>52.0</td>\n",
       "      <td>100</td>\n",
       "      <td>61.9</td>\n",
       "    </tr>\n",
       "    <tr>\n",
       "      <th>29</th>\n",
       "      <td>4/2/19 11:00 AM</td>\n",
       "      <td>Etching101</td>\n",
       "      <td>2</td>\n",
       "      <td>30</td>\n",
       "      <td>22.0</td>\n",
       "      <td>53.0</td>\n",
       "      <td>107</td>\n",
       "      <td>62.0</td>\n",
       "    </tr>\n",
       "    <tr>\n",
       "      <th>30</th>\n",
       "      <td>4/2/19 11:00 AM</td>\n",
       "      <td>Etching101</td>\n",
       "      <td>2</td>\n",
       "      <td>31</td>\n",
       "      <td>23.0</td>\n",
       "      <td>51.0</td>\n",
       "      <td>99</td>\n",
       "      <td>62.1</td>\n",
       "    </tr>\n",
       "    <tr>\n",
       "      <th>31</th>\n",
       "      <td>4/2/19 11:00 AM</td>\n",
       "      <td>Etching101</td>\n",
       "      <td>2</td>\n",
       "      <td>32</td>\n",
       "      <td>23.0</td>\n",
       "      <td>53.0</td>\n",
       "      <td>106</td>\n",
       "      <td>62.2</td>\n",
       "    </tr>\n",
       "    <tr>\n",
       "      <th>32</th>\n",
       "      <td>4/2/19 11:00 AM</td>\n",
       "      <td>Etching101</td>\n",
       "      <td>2</td>\n",
       "      <td>33</td>\n",
       "      <td>21.0</td>\n",
       "      <td>51.0</td>\n",
       "      <td>107</td>\n",
       "      <td>62.3</td>\n",
       "    </tr>\n",
       "    <tr>\n",
       "      <th>33</th>\n",
       "      <td>4/2/19 11:00 AM</td>\n",
       "      <td>Etching101</td>\n",
       "      <td>2</td>\n",
       "      <td>34</td>\n",
       "      <td>19.0</td>\n",
       "      <td>51.0</td>\n",
       "      <td>108</td>\n",
       "      <td>62.4</td>\n",
       "    </tr>\n",
       "    <tr>\n",
       "      <th>34</th>\n",
       "      <td>4/2/19 11:00 AM</td>\n",
       "      <td>Etching101</td>\n",
       "      <td>2</td>\n",
       "      <td>35</td>\n",
       "      <td>22.0</td>\n",
       "      <td>53.0</td>\n",
       "      <td>109</td>\n",
       "      <td>62.5</td>\n",
       "    </tr>\n",
       "    <tr>\n",
       "      <th>35</th>\n",
       "      <td>4/2/19 11:00 AM</td>\n",
       "      <td>Etching101</td>\n",
       "      <td>2</td>\n",
       "      <td>36</td>\n",
       "      <td>23.0</td>\n",
       "      <td>49.0</td>\n",
       "      <td>104</td>\n",
       "      <td>62.6</td>\n",
       "    </tr>\n",
       "    <tr>\n",
       "      <th>36</th>\n",
       "      <td>4/2/19 11:00 AM</td>\n",
       "      <td>Etching101</td>\n",
       "      <td>2</td>\n",
       "      <td>37</td>\n",
       "      <td>22.0</td>\n",
       "      <td>50.0</td>\n",
       "      <td>99</td>\n",
       "      <td>62.7</td>\n",
       "    </tr>\n",
       "    <tr>\n",
       "      <th>37</th>\n",
       "      <td>4/2/19 11:00 AM</td>\n",
       "      <td>Etching101</td>\n",
       "      <td>2</td>\n",
       "      <td>38</td>\n",
       "      <td>20.0</td>\n",
       "      <td>50.0</td>\n",
       "      <td>99</td>\n",
       "      <td>62.8</td>\n",
       "    </tr>\n",
       "    <tr>\n",
       "      <th>38</th>\n",
       "      <td>4/2/19 11:00 AM</td>\n",
       "      <td>Etching101</td>\n",
       "      <td>2</td>\n",
       "      <td>39</td>\n",
       "      <td>22.0</td>\n",
       "      <td>49.0</td>\n",
       "      <td>100</td>\n",
       "      <td>62.9</td>\n",
       "    </tr>\n",
       "    <tr>\n",
       "      <th>39</th>\n",
       "      <td>4/2/19 11:00 AM</td>\n",
       "      <td>Etching101</td>\n",
       "      <td>2</td>\n",
       "      <td>40</td>\n",
       "      <td>19.0</td>\n",
       "      <td>51.0</td>\n",
       "      <td>107</td>\n",
       "      <td>63.0</td>\n",
       "    </tr>\n",
       "    <tr>\n",
       "      <th>40</th>\n",
       "      <td>4/2/19 11:00 AM</td>\n",
       "      <td>Etching101</td>\n",
       "      <td>2</td>\n",
       "      <td>41</td>\n",
       "      <td>22.0</td>\n",
       "      <td>51.0</td>\n",
       "      <td>101</td>\n",
       "      <td>63.1</td>\n",
       "    </tr>\n",
       "    <tr>\n",
       "      <th>41</th>\n",
       "      <td>4/2/19 11:00 AM</td>\n",
       "      <td>Etching101</td>\n",
       "      <td>2</td>\n",
       "      <td>42</td>\n",
       "      <td>22.0</td>\n",
       "      <td>52.0</td>\n",
       "      <td>101</td>\n",
       "      <td>63.2</td>\n",
       "    </tr>\n",
       "    <tr>\n",
       "      <th>42</th>\n",
       "      <td>4/2/19 11:00 AM</td>\n",
       "      <td>Etching101</td>\n",
       "      <td>2</td>\n",
       "      <td>43</td>\n",
       "      <td>20.0</td>\n",
       "      <td>49.0</td>\n",
       "      <td>100</td>\n",
       "      <td>63.3</td>\n",
       "    </tr>\n",
       "    <tr>\n",
       "      <th>43</th>\n",
       "      <td>4/2/19 11:00 AM</td>\n",
       "      <td>Etching101</td>\n",
       "      <td>2</td>\n",
       "      <td>44</td>\n",
       "      <td>21.0</td>\n",
       "      <td>51.0</td>\n",
       "      <td>105</td>\n",
       "      <td>63.4</td>\n",
       "    </tr>\n",
       "    <tr>\n",
       "      <th>44</th>\n",
       "      <td>4/2/19 11:00 AM</td>\n",
       "      <td>Etching101</td>\n",
       "      <td>2</td>\n",
       "      <td>45</td>\n",
       "      <td>22.0</td>\n",
       "      <td>50.0</td>\n",
       "      <td>105</td>\n",
       "      <td>63.5</td>\n",
       "    </tr>\n",
       "    <tr>\n",
       "      <th>45</th>\n",
       "      <td>4/2/19 11:00 AM</td>\n",
       "      <td>Etching101</td>\n",
       "      <td>2</td>\n",
       "      <td>46</td>\n",
       "      <td>19.0</td>\n",
       "      <td>51.0</td>\n",
       "      <td>101</td>\n",
       "      <td>63.6</td>\n",
       "    </tr>\n",
       "    <tr>\n",
       "      <th>46</th>\n",
       "      <td>4/2/19 11:00 AM</td>\n",
       "      <td>Etching101</td>\n",
       "      <td>2</td>\n",
       "      <td>47</td>\n",
       "      <td>20.0</td>\n",
       "      <td>53.0</td>\n",
       "      <td>100</td>\n",
       "      <td>63.7</td>\n",
       "    </tr>\n",
       "    <tr>\n",
       "      <th>47</th>\n",
       "      <td>4/2/19 11:00 AM</td>\n",
       "      <td>Etching101</td>\n",
       "      <td>2</td>\n",
       "      <td>48</td>\n",
       "      <td>15.0</td>\n",
       "      <td>50.0</td>\n",
       "      <td>99</td>\n",
       "      <td>63.8</td>\n",
       "    </tr>\n",
       "    <tr>\n",
       "      <th>48</th>\n",
       "      <td>4/2/19 11:00 AM</td>\n",
       "      <td>Etching101</td>\n",
       "      <td>2</td>\n",
       "      <td>49</td>\n",
       "      <td>14.0</td>\n",
       "      <td>53.0</td>\n",
       "      <td>103</td>\n",
       "      <td>63.9</td>\n",
       "    </tr>\n",
       "    <tr>\n",
       "      <th>49</th>\n",
       "      <td>4/2/19 11:00 AM</td>\n",
       "      <td>Etching101</td>\n",
       "      <td>2</td>\n",
       "      <td>50</td>\n",
       "      <td>12.0</td>\n",
       "      <td>52.0</td>\n",
       "      <td>103</td>\n",
       "      <td>64.0</td>\n",
       "    </tr>\n",
       "    <tr>\n",
       "      <th>50</th>\n",
       "      <td>4/2/19 11:00 AM</td>\n",
       "      <td>Etching101</td>\n",
       "      <td>3</td>\n",
       "      <td>51</td>\n",
       "      <td>7.0</td>\n",
       "      <td>29.0</td>\n",
       "      <td>33</td>\n",
       "      <td>64.1</td>\n",
       "    </tr>\n",
       "    <tr>\n",
       "      <th>51</th>\n",
       "      <td>4/2/19 11:00 AM</td>\n",
       "      <td>Etching101</td>\n",
       "      <td>3</td>\n",
       "      <td>52</td>\n",
       "      <td>3.0</td>\n",
       "      <td>5.0</td>\n",
       "      <td>0</td>\n",
       "      <td>64.0</td>\n",
       "    </tr>\n",
       "    <tr>\n",
       "      <th>52</th>\n",
       "      <td>4/2/19 11:00 AM</td>\n",
       "      <td>Etching101</td>\n",
       "      <td>3</td>\n",
       "      <td>53</td>\n",
       "      <td>1.0</td>\n",
       "      <td>3.0</td>\n",
       "      <td>0</td>\n",
       "      <td>63.9</td>\n",
       "    </tr>\n",
       "    <tr>\n",
       "      <th>53</th>\n",
       "      <td>4/2/19 11:00 AM</td>\n",
       "      <td>Etching101</td>\n",
       "      <td>3</td>\n",
       "      <td>54</td>\n",
       "      <td>0.0</td>\n",
       "      <td>0.0</td>\n",
       "      <td>0</td>\n",
       "      <td>63.8</td>\n",
       "    </tr>\n",
       "    <tr>\n",
       "      <th>54</th>\n",
       "      <td>4/2/19 11:00 AM</td>\n",
       "      <td>Etching101</td>\n",
       "      <td>3</td>\n",
       "      <td>55</td>\n",
       "      <td>0.0</td>\n",
       "      <td>0.0</td>\n",
       "      <td>0</td>\n",
       "      <td>63.7</td>\n",
       "    </tr>\n",
       "    <tr>\n",
       "      <th>55</th>\n",
       "      <td>4/2/19 11:00 AM</td>\n",
       "      <td>Etching101</td>\n",
       "      <td>3</td>\n",
       "      <td>56</td>\n",
       "      <td>0.0</td>\n",
       "      <td>0.0</td>\n",
       "      <td>0</td>\n",
       "      <td>63.6</td>\n",
       "    </tr>\n",
       "    <tr>\n",
       "      <th>56</th>\n",
       "      <td>4/2/19 11:00 AM</td>\n",
       "      <td>Etching101</td>\n",
       "      <td>3</td>\n",
       "      <td>57</td>\n",
       "      <td>0.0</td>\n",
       "      <td>0.0</td>\n",
       "      <td>0</td>\n",
       "      <td>63.5</td>\n",
       "    </tr>\n",
       "    <tr>\n",
       "      <th>57</th>\n",
       "      <td>4/2/19 11:00 AM</td>\n",
       "      <td>Etching101</td>\n",
       "      <td>3</td>\n",
       "      <td>58</td>\n",
       "      <td>0.0</td>\n",
       "      <td>0.0</td>\n",
       "      <td>0</td>\n",
       "      <td>63.4</td>\n",
       "    </tr>\n",
       "    <tr>\n",
       "      <th>58</th>\n",
       "      <td>4/2/19 11:00 AM</td>\n",
       "      <td>Etching101</td>\n",
       "      <td>3</td>\n",
       "      <td>59</td>\n",
       "      <td>0.0</td>\n",
       "      <td>0.0</td>\n",
       "      <td>0</td>\n",
       "      <td>63.3</td>\n",
       "    </tr>\n",
       "    <tr>\n",
       "      <th>59</th>\n",
       "      <td>4/2/19 11:00 AM</td>\n",
       "      <td>Etching101</td>\n",
       "      <td>3</td>\n",
       "      <td>60</td>\n",
       "      <td>0.0</td>\n",
       "      <td>0.0</td>\n",
       "      <td>0</td>\n",
       "      <td>63.2</td>\n",
       "    </tr>\n",
       "  </tbody>\n",
       "</table>\n",
       "</div>"
      ],
      "text/plain": [
       "           DateTime      Recipe  Step  Interval  Pressure  GasFlow  \\\n",
       "0   4/2/19 11:00 AM  Etching101     1         1       0.0      0.0   \n",
       "1   4/2/19 11:00 AM  Etching101     1         2       5.2     13.0   \n",
       "2   4/2/19 11:00 AM  Etching101     1         3       7.0     17.5   \n",
       "3   4/2/19 11:00 AM  Etching101     1         4      12.0     30.0   \n",
       "4   4/2/19 11:00 AM  Etching101     1         5      18.0     45.0   \n",
       "5   4/2/19 11:00 AM  Etching101     1         6      25.0     62.5   \n",
       "6   4/2/19 11:00 AM  Etching101     1         7      23.0     57.5   \n",
       "7   4/2/19 11:00 AM  Etching101     1         8      19.0     47.5   \n",
       "8   4/2/19 11:00 AM  Etching101     1         9      20.0     50.0   \n",
       "9   4/2/19 11:00 AM  Etching101     2        10      21.0     50.0   \n",
       "10  4/2/19 11:00 AM  Etching101     2        11      19.0     50.0   \n",
       "11  4/2/19 11:00 AM  Etching101     2        12      23.0     52.0   \n",
       "12  4/2/19 11:00 AM  Etching101     2        13      20.0     49.0   \n",
       "13  4/2/19 11:00 AM  Etching101     2        14      20.0     49.0   \n",
       "14  4/2/19 11:00 AM  Etching101     2        15      21.0     50.0   \n",
       "15  4/2/19 11:00 AM  Etching101     2        16      22.0     50.0   \n",
       "16  4/2/19 11:00 AM  Etching101     2        17      21.0     49.0   \n",
       "17  4/2/19 11:00 AM  Etching101     2        18      23.0     49.0   \n",
       "18  4/2/19 11:00 AM  Etching101     2        19      22.0     50.0   \n",
       "19  4/2/19 11:00 AM  Etching101     2        20      19.0     50.0   \n",
       "20  4/2/19 11:00 AM  Etching101     2        21      21.0     50.0   \n",
       "21  4/2/19 11:00 AM  Etching101     2        22      23.0     52.0   \n",
       "22  4/2/19 11:00 AM  Etching101     2        23      20.0     53.0   \n",
       "23  4/2/19 11:00 AM  Etching101     2        24      23.0     52.0   \n",
       "24  4/2/19 11:00 AM  Etching101     2        25      23.0     51.0   \n",
       "25  4/2/19 11:00 AM  Etching101     2        26      22.0     52.0   \n",
       "26  4/2/19 11:00 AM  Etching101     2        27      21.0     53.0   \n",
       "27  4/2/19 11:00 AM  Etching101     2        28      23.0     51.0   \n",
       "28  4/2/19 11:00 AM  Etching101     2        29      20.0     52.0   \n",
       "29  4/2/19 11:00 AM  Etching101     2        30      22.0     53.0   \n",
       "30  4/2/19 11:00 AM  Etching101     2        31      23.0     51.0   \n",
       "31  4/2/19 11:00 AM  Etching101     2        32      23.0     53.0   \n",
       "32  4/2/19 11:00 AM  Etching101     2        33      21.0     51.0   \n",
       "33  4/2/19 11:00 AM  Etching101     2        34      19.0     51.0   \n",
       "34  4/2/19 11:00 AM  Etching101     2        35      22.0     53.0   \n",
       "35  4/2/19 11:00 AM  Etching101     2        36      23.0     49.0   \n",
       "36  4/2/19 11:00 AM  Etching101     2        37      22.0     50.0   \n",
       "37  4/2/19 11:00 AM  Etching101     2        38      20.0     50.0   \n",
       "38  4/2/19 11:00 AM  Etching101     2        39      22.0     49.0   \n",
       "39  4/2/19 11:00 AM  Etching101     2        40      19.0     51.0   \n",
       "40  4/2/19 11:00 AM  Etching101     2        41      22.0     51.0   \n",
       "41  4/2/19 11:00 AM  Etching101     2        42      22.0     52.0   \n",
       "42  4/2/19 11:00 AM  Etching101     2        43      20.0     49.0   \n",
       "43  4/2/19 11:00 AM  Etching101     2        44      21.0     51.0   \n",
       "44  4/2/19 11:00 AM  Etching101     2        45      22.0     50.0   \n",
       "45  4/2/19 11:00 AM  Etching101     2        46      19.0     51.0   \n",
       "46  4/2/19 11:00 AM  Etching101     2        47      20.0     53.0   \n",
       "47  4/2/19 11:00 AM  Etching101     2        48      15.0     50.0   \n",
       "48  4/2/19 11:00 AM  Etching101     2        49      14.0     53.0   \n",
       "49  4/2/19 11:00 AM  Etching101     2        50      12.0     52.0   \n",
       "50  4/2/19 11:00 AM  Etching101     3        51       7.0     29.0   \n",
       "51  4/2/19 11:00 AM  Etching101     3        52       3.0      5.0   \n",
       "52  4/2/19 11:00 AM  Etching101     3        53       1.0      3.0   \n",
       "53  4/2/19 11:00 AM  Etching101     3        54       0.0      0.0   \n",
       "54  4/2/19 11:00 AM  Etching101     3        55       0.0      0.0   \n",
       "55  4/2/19 11:00 AM  Etching101     3        56       0.0      0.0   \n",
       "56  4/2/19 11:00 AM  Etching101     3        57       0.0      0.0   \n",
       "57  4/2/19 11:00 AM  Etching101     3        58       0.0      0.0   \n",
       "58  4/2/19 11:00 AM  Etching101     3        59       0.0      0.0   \n",
       "59  4/2/19 11:00 AM  Etching101     3        60       0.0      0.0   \n",
       "\n",
       "    ElectricalPower  Temperature  \n",
       "0                 0         60.1  \n",
       "1                 0         60.0  \n",
       "2                 0         60.1  \n",
       "3                 0         60.2  \n",
       "4                 0         60.1  \n",
       "5                 0         60.0  \n",
       "6                 0         60.0  \n",
       "7                 0         60.1  \n",
       "8                 0         60.0  \n",
       "9                52         60.0  \n",
       "10              102         60.1  \n",
       "11              104         60.2  \n",
       "12              103         60.3  \n",
       "13              103         60.4  \n",
       "14              107         60.5  \n",
       "15              108         60.6  \n",
       "16              107         60.7  \n",
       "17               99         60.8  \n",
       "18              106         60.9  \n",
       "19              101         61.0  \n",
       "20              103         61.1  \n",
       "21              103         61.2  \n",
       "22              102         61.3  \n",
       "23              102         61.4  \n",
       "24              104         61.5  \n",
       "25              105         61.6  \n",
       "26              107         61.7  \n",
       "27              100         61.8  \n",
       "28              100         61.9  \n",
       "29              107         62.0  \n",
       "30               99         62.1  \n",
       "31              106         62.2  \n",
       "32              107         62.3  \n",
       "33              108         62.4  \n",
       "34              109         62.5  \n",
       "35              104         62.6  \n",
       "36               99         62.7  \n",
       "37               99         62.8  \n",
       "38              100         62.9  \n",
       "39              107         63.0  \n",
       "40              101         63.1  \n",
       "41              101         63.2  \n",
       "42              100         63.3  \n",
       "43              105         63.4  \n",
       "44              105         63.5  \n",
       "45              101         63.6  \n",
       "46              100         63.7  \n",
       "47               99         63.8  \n",
       "48              103         63.9  \n",
       "49              103         64.0  \n",
       "50               33         64.1  \n",
       "51                0         64.0  \n",
       "52                0         63.9  \n",
       "53                0         63.8  \n",
       "54                0         63.7  \n",
       "55                0         63.6  \n",
       "56                0         63.5  \n",
       "57                0         63.4  \n",
       "58                0         63.3  \n",
       "59                0         63.2  "
      ]
     },
     "execution_count": 13,
     "metadata": {},
     "output_type": "execute_result"
    }
   ],
   "source": [
    "df0"
   ]
  },
  {
   "cell_type": "markdown",
   "metadata": {
    "slideshow": {
     "slide_type": "slide"
    }
   },
   "source": [
    "## Reading/Checking a `DataFrame`\n",
    "\n",
    "As we just saw, we can check the contents of a `DataFrame` by calling it's variable. However, sometimes the data we are dealing with might be too large to reasonably display the whole thing, so here are some ways to call different pieces or descriptors of a `DataFrame`:"
   ]
  },
  {
   "cell_type": "markdown",
   "metadata": {
    "slideshow": {
     "slide_type": "slide"
    }
   },
   "source": [
    "### Columns\n",
    "One quick way to verify data is to see all the columns of a `DataFrame`.\n",
    "We can see the `columns` attribute of a `DataFrame` using dot notation, as we saw in the previous session."
   ]
  },
  {
   "cell_type": "code",
   "execution_count": 14,
   "metadata": {
    "slideshow": {
     "slide_type": "fragment"
    }
   },
   "outputs": [
    {
     "data": {
      "text/plain": [
       "Index(['DateTime', 'Recipe', 'Step', 'Interval', 'Pressure', 'GasFlow',\n",
       "       'ElectricalPower', 'Temperature'],\n",
       "      dtype='object')"
      ]
     },
     "execution_count": 14,
     "metadata": {},
     "output_type": "execute_result"
    }
   ],
   "source": [
    "df0.columns"
   ]
  },
  {
   "cell_type": "markdown",
   "metadata": {
    "slideshow": {
     "slide_type": "slide"
    }
   },
   "source": [
    "We can get the column names in a list if preferred. This can have useful applications in our scripts, as we will see later (plus is looks nicer when returned!)"
   ]
  },
  {
   "cell_type": "code",
   "execution_count": 15,
   "metadata": {
    "slideshow": {
     "slide_type": "fragment"
    }
   },
   "outputs": [
    {
     "data": {
      "text/plain": [
       "['DateTime',\n",
       " 'Recipe',\n",
       " 'Step',\n",
       " 'Interval',\n",
       " 'Pressure',\n",
       " 'GasFlow',\n",
       " 'ElectricalPower',\n",
       " 'Temperature']"
      ]
     },
     "execution_count": 15,
     "metadata": {},
     "output_type": "execute_result"
    }
   ],
   "source": [
    "list(df0.columns)"
   ]
  },
  {
   "cell_type": "markdown",
   "metadata": {
    "slideshow": {
     "slide_type": "slide"
    }
   },
   "source": [
    "An even higher level check of a `DataFrame`'s contents is also to just check the number of columns, especially if there are many columns in the data set.  \n",
    "`DataFrame`s also have a `shape` attribute, comprised of its row count and its column count. Find the column count using an index of `[1]`:"
   ]
  },
  {
   "cell_type": "code",
   "execution_count": null,
   "metadata": {
    "slideshow": {
     "slide_type": "fragment"
    }
   },
   "outputs": [],
   "source": [
    "df0.shape[1]"
   ]
  },
  {
   "cell_type": "markdown",
   "metadata": {
    "slideshow": {
     "slide_type": "fragment"
    }
   },
   "source": [
    "Alternatively, we can find use the `len` command (can be thought of short for \"length\") over the `columns` attribute to find the column count."
   ]
  },
  {
   "cell_type": "code",
   "execution_count": null,
   "metadata": {
    "slideshow": {
     "slide_type": "fragment"
    }
   },
   "outputs": [],
   "source": [
    "len(df0.columns)"
   ]
  },
  {
   "cell_type": "markdown",
   "metadata": {
    "slideshow": {
     "slide_type": "slide"
    }
   },
   "source": [
    "### Rows\n",
    "Similarly, we might want to check the number of rows in a `DataFrame`. We can do this using the `.count()` method, which will give us a count of data in each column."
   ]
  },
  {
   "cell_type": "code",
   "execution_count": null,
   "metadata": {
    "slideshow": {
     "slide_type": "fragment"
    }
   },
   "outputs": [],
   "source": [
    "df0.count()"
   ]
  },
  {
   "cell_type": "markdown",
   "metadata": {
    "slideshow": {
     "slide_type": "slide"
    }
   },
   "source": [
    "If we just want the overall dimension of the data and just want a count of the rows, we can use the `shape` attribute, using an index of `[0]`"
   ]
  },
  {
   "cell_type": "code",
   "execution_count": null,
   "metadata": {
    "slideshow": {
     "slide_type": "fragment"
    }
   },
   "outputs": [],
   "source": [
    "df0.shape[0]"
   ]
  },
  {
   "cell_type": "markdown",
   "metadata": {
    "slideshow": {
     "slide_type": "fragment"
    }
   },
   "source": [
    "We can also achieve this using `len` of the `index` attribute of the `DataFrame`."
   ]
  },
  {
   "cell_type": "code",
   "execution_count": null,
   "metadata": {
    "slideshow": {
     "slide_type": "fragment"
    }
   },
   "outputs": [],
   "source": [
    "len(df0.index)"
   ]
  },
  {
   "cell_type": "markdown",
   "metadata": {
    "slideshow": {
     "slide_type": "slide"
    }
   },
   "source": [
    "### Other Views"
   ]
  },
  {
   "cell_type": "markdown",
   "metadata": {
    "slideshow": {
     "slide_type": "slide"
    }
   },
   "source": [
    "`.count` will return full dimensions of a `DataFrame`. It's behavior in Jupyter looks different than it will in Spyder."
   ]
  },
  {
   "cell_type": "code",
   "execution_count": null,
   "metadata": {
    "slideshow": {
     "slide_type": "fragment"
    }
   },
   "outputs": [],
   "source": [
    "df0.count"
   ]
  },
  {
   "cell_type": "markdown",
   "metadata": {
    "slideshow": {
     "slide_type": "slide"
    }
   },
   "source": [
    "`.describe()` will return some basic summary statistics of the `DataFrame`:"
   ]
  },
  {
   "cell_type": "code",
   "execution_count": null,
   "metadata": {
    "slideshow": {
     "slide_type": "fragment"
    }
   },
   "outputs": [],
   "source": [
    "df0.describe() "
   ]
  },
  {
   "cell_type": "markdown",
   "metadata": {
    "slideshow": {
     "slide_type": "slide"
    }
   },
   "source": [
    "`.head()` will show the top of the `DataFrame`. You can specify how many rows you would like to see in the parenthesis using `n=`:"
   ]
  },
  {
   "cell_type": "code",
   "execution_count": null,
   "metadata": {
    "slideshow": {
     "slide_type": "fragment"
    }
   },
   "outputs": [],
   "source": [
    "df0.head()"
   ]
  },
  {
   "cell_type": "code",
   "execution_count": null,
   "metadata": {
    "slideshow": {
     "slide_type": "fragment"
    }
   },
   "outputs": [],
   "source": [
    "df0.head(n=3)"
   ]
  },
  {
   "cell_type": "markdown",
   "metadata": {
    "slideshow": {
     "slide_type": "slide"
    }
   },
   "source": [
    "`.tail` will show the bottom of the `DataFrame`. You can specify how many rows you would like to see in the parenthesis using `n=`:"
   ]
  },
  {
   "cell_type": "code",
   "execution_count": null,
   "metadata": {
    "slideshow": {
     "slide_type": "fragment"
    }
   },
   "outputs": [],
   "source": [
    "df0.tail()"
   ]
  },
  {
   "cell_type": "code",
   "execution_count": null,
   "metadata": {
    "slideshow": {
     "slide_type": "fragment"
    }
   },
   "outputs": [],
   "source": [
    "df0.tail(n=3)"
   ]
  },
  {
   "cell_type": "markdown",
   "metadata": {
    "slideshow": {
     "slide_type": "slide"
    }
   },
   "source": [
    "## Manipulating a `DataFrame`\n",
    "### Adding Columns\n",
    "First, let's create some data to insert. Let's make a data variable `tool` with a value of \"ET101\", get the current date and time, and get the filename (isolating from the path)."
   ]
  },
  {
   "cell_type": "code",
   "execution_count": null,
   "metadata": {
    "slideshow": {
     "slide_type": "fragment"
    }
   },
   "outputs": [],
   "source": [
    "tool = \"ET101\""
   ]
  },
  {
   "cell_type": "code",
   "execution_count": null,
   "metadata": {
    "slideshow": {
     "slide_type": "fragment"
    }
   },
   "outputs": [],
   "source": [
    "time = datetime.now()"
   ]
  },
  {
   "cell_type": "markdown",
   "metadata": {
    "slideshow": {
     "slide_type": "slide"
    }
   },
   "source": [
    "You'll see that the `datetime.now()` function returned a `datetime` object."
   ]
  },
  {
   "cell_type": "code",
   "execution_count": null,
   "metadata": {
    "slideshow": {
     "slide_type": "fragment"
    }
   },
   "outputs": [],
   "source": [
    "time"
   ]
  },
  {
   "cell_type": "markdown",
   "metadata": {
    "slideshow": {
     "slide_type": "slide"
    }
   },
   "source": [
    "When putting data into a `DataFrame`, a `datetime` object would not usually make much sense to insert into a file, as it's not a familiar, human-readable format. We can \"cast\" the `datetime` as a `str` type."
   ]
  },
  {
   "cell_type": "code",
   "execution_count": null,
   "metadata": {
    "slideshow": {
     "slide_type": "fragment"
    }
   },
   "outputs": [],
   "source": [
    "time = str(time)\n",
    "time"
   ]
  },
  {
   "cell_type": "markdown",
   "metadata": {
    "slideshow": {
     "slide_type": "slide"
    }
   },
   "source": [
    "Since we already have the filepath, we can use a function from `os` called `basename` that enables us to isolate the file name from the file path."
   ]
  },
  {
   "cell_type": "code",
   "execution_count": null,
   "metadata": {
    "slideshow": {
     "slide_type": "fragment"
    }
   },
   "outputs": [],
   "source": [
    "filename = os.path.basename(infile)\n",
    "filename"
   ]
  },
  {
   "cell_type": "markdown",
   "metadata": {
    "slideshow": {
     "slide_type": "slide"
    }
   },
   "source": [
    "We can also remove objects from memory using the command `del`:"
   ]
  },
  {
   "cell_type": "code",
   "execution_count": null,
   "metadata": {
    "slideshow": {
     "slide_type": "fragment"
    }
   },
   "outputs": [],
   "source": [
    "del tool\n",
    "tool"
   ]
  },
  {
   "cell_type": "markdown",
   "metadata": {
    "slideshow": {
     "slide_type": "fragment"
    }
   },
   "source": [
    "...but we still need that, so get `tool` back:"
   ]
  },
  {
   "cell_type": "code",
   "execution_count": null,
   "metadata": {
    "slideshow": {
     "slide_type": "fragment"
    }
   },
   "outputs": [],
   "source": [
    "tool = \"ET101\"\n",
    "tool"
   ]
  },
  {
   "cell_type": "markdown",
   "metadata": {
    "slideshow": {
     "slide_type": "slide"
    }
   },
   "source": [
    "There are several ways to add columns to a `DataFrame`. One way is to use the `assign` method. This places the column at the end of the `DataFrame` by default."
   ]
  },
  {
   "cell_type": "code",
   "execution_count": null,
   "metadata": {
    "slideshow": {
     "slide_type": "fragment"
    }
   },
   "outputs": [],
   "source": [
    "df0 = df0.assign(Tool = tool)\n",
    "df0.head()"
   ]
  },
  {
   "cell_type": "markdown",
   "metadata": {
    "slideshow": {
     "slide_type": "slide"
    }
   },
   "source": [
    "Another way is using direct assignment, using the desired column name as an index. This also places the column at the end of the `DataFrame` by default:"
   ]
  },
  {
   "cell_type": "code",
   "execution_count": null,
   "metadata": {
    "slideshow": {
     "slide_type": "fragment"
    }
   },
   "outputs": [],
   "source": [
    "df0[\"Time\"] = time\n",
    "df0.head()"
   ]
  },
  {
   "cell_type": "markdown",
   "metadata": {
    "slideshow": {
     "slide_type": "slide"
    }
   },
   "source": [
    "Direct assignment can also work with direct values, not just with variables:"
   ]
  },
  {
   "cell_type": "code",
   "execution_count": null,
   "metadata": {
    "slideshow": {
     "slide_type": "fragment"
    }
   },
   "outputs": [],
   "source": [
    "df0[\"MyName\"] = \"Justin Winata\"\n",
    "df0.head()"
   ]
  },
  {
   "cell_type": "markdown",
   "metadata": {
    "slideshow": {
     "slide_type": "slide"
    }
   },
   "source": [
    "Finally, there is the `insert()` method. This allows us to control the position of insertion. The `insert` function requires an index (starting at 0) as the first parameter, a column name for the second, and data for the third."
   ]
  },
  {
   "cell_type": "code",
   "execution_count": null,
   "metadata": {
    "slideshow": {
     "slide_type": "fragment"
    }
   },
   "outputs": [],
   "source": [
    "df0.insert(0,\"FileName\",filename)\n",
    "df0.head()"
   ]
  },
  {
   "cell_type": "markdown",
   "metadata": {
    "slideshow": {
     "slide_type": "slide"
    }
   },
   "source": [
    "We may want to re-order the columns in a `DataFrame`. We can do this by simply calling the columns in the desired order. Note the double brackets in this syntax, due to a `DataFrame` being a two-dimensional structure with the index/rows represented in the first dimension and the columns represented by the second."
   ]
  },
  {
   "cell_type": "code",
   "execution_count": null,
   "metadata": {
    "slideshow": {
     "slide_type": "fragment"
    }
   },
   "outputs": [],
   "source": [
    "df1 = df0[[\"MyName\",\"Tool\",\"Time\",\"FileName\",\"DateTime\",\n",
    "           \"Recipe\",\"Step\",\"Interval\",\"Pressure\",\"GasFlow\",\n",
    "           \"ElectricalPower\",\"Temperature\"]]\n",
    "df1.head()"
   ]
  },
  {
   "cell_type": "markdown",
   "metadata": {
    "slideshow": {
     "slide_type": "slide"
    }
   },
   "source": [
    "## Converting a File into a `DataFrame`\n",
    "After modifying the data, we often want a cleaned copy of our final data, or need one to interface the data with other programs. We can do this by using the `pandas` function `.to_csv()`. The first parameter is the file path, and there are many optional parameter afterwards."
   ]
  },
  {
   "cell_type": "code",
   "execution_count": null,
   "metadata": {
    "slideshow": {
     "slide_type": "fragment"
    }
   },
   "outputs": [],
   "source": [
    "df1.to_csv(\"session2output.csv\",index=False)"
   ]
  },
  {
   "cell_type": "markdown",
   "metadata": {
    "slideshow": {
     "slide_type": "slide"
    }
   },
   "source": [
    "Notice the `index=False` parameter here. If you look at our `DataFrame`, you'll see that there's an extra column on the left side numbering the rows that wasn't in our original data."
   ]
  },
  {
   "cell_type": "code",
   "execution_count": null,
   "metadata": {
    "slideshow": {
     "slide_type": "fragment"
    }
   },
   "outputs": [],
   "source": [
    "df1.head()"
   ]
  },
  {
   "cell_type": "markdown",
   "metadata": {
    "slideshow": {
     "slide_type": "fragment"
    }
   },
   "source": [
    "Usually when dealing with data, there will often be a column that already plays this role. In this case, the `Interval` column already numbers the rows. So typically, I set the index to `False`, and when the file is written, this extra index column is not written to the file."
   ]
  },
  {
   "cell_type": "markdown",
   "metadata": {
    "slideshow": {
     "slide_type": "slide"
    }
   },
   "source": [
    "You'll also see that we just saved a file to a default location. We would typically want to specifically set an output directory as well. I like to just create an output folder where the data is. We can use the method `os.path.dirname` to chop off the file name of our `inpath`:"
   ]
  },
  {
   "cell_type": "code",
   "execution_count": null,
   "metadata": {
    "slideshow": {
     "slide_type": "fragment"
    }
   },
   "outputs": [],
   "source": [
    "outpath = os.path.dirname(infile) + r\"\\output\"\n",
    "outpath"
   ]
  },
  {
   "cell_type": "markdown",
   "metadata": {
    "slideshow": {
     "slide_type": "slide"
    }
   },
   "source": [
    "But notice that the path we set for the path to be saved in does not exist! We can force this path to exist using functions from `os`. The `os.path.exists()` function checks whether or not a path exists, and `os.makedirs` creates the directories necessary for that path to exist. Here we'll use control flow, using an `if` statement to only execute `os.makedirs()` if it is true that `outpath` does not yet exist:"
   ]
  },
  {
   "cell_type": "code",
   "execution_count": null,
   "metadata": {
    "slideshow": {
     "slide_type": "fragment"
    }
   },
   "outputs": [],
   "source": [
    "if not os.path.exists(outpath):\n",
    "    os.makedirs(outpath)"
   ]
  },
  {
   "cell_type": "markdown",
   "metadata": {
    "slideshow": {
     "slide_type": "slide"
    }
   },
   "source": [
    "To build the full file name more dynamically, we can build the path string by simply adding on the desired file name to the file path:"
   ]
  },
  {
   "cell_type": "code",
   "execution_count": null,
   "metadata": {
    "slideshow": {
     "slide_type": "fragment"
    }
   },
   "outputs": [],
   "source": [
    "outfile = outpath + r\"\\session2output.csv\""
   ]
  },
  {
   "cell_type": "markdown",
   "metadata": {
    "slideshow": {
     "slide_type": "slide"
    }
   },
   "source": [
    "Finally, we can use the `to.csv()` function to create an output file, right where we want it to be."
   ]
  },
  {
   "cell_type": "code",
   "execution_count": null,
   "metadata": {
    "slideshow": {
     "slide_type": "fragment"
    }
   },
   "outputs": [],
   "source": [
    "df1.to_csv(outfile,index=False)"
   ]
  },
  {
   "cell_type": "markdown",
   "metadata": {
    "slideshow": {
     "slide_type": "slide"
    }
   },
   "source": [
    "# Final Script\n",
    "\n",
    "And our script is complete. If you've been keeping up with the commands throughout this Notebook, if it were all compiled into a script, it would look like this:"
   ]
  },
  {
   "cell_type": "code",
   "execution_count": null,
   "metadata": {
    "slideshow": {
     "slide_type": "slide"
    }
   },
   "outputs": [],
   "source": [
    "# imports -- need os, pandas, and datetime\n",
    "import os\n",
    "import pandas as pd\n",
    "from datetime import datetime\n",
    "\n",
    "# get input file\n",
    "infile = r\"C:\\Users\\161289\\Py-R\\data\\session2\\session2data.csv\"\n",
    "# convert file to DataFrame\n",
    "df0 = pd.read_csv(infile)\n",
    "\n",
    "# metadata to insert -- tool name, current time, file name\n",
    "tool = \"ET101\"\n",
    "time = str(datetime.now())\n",
    "filename = os.path.basename(infile)\n",
    "\n",
    "# add Time, MyName, Time, and FileName columns\n",
    "df0 = df0.assign(Tool = tool)\n",
    "df0[\"Time\"] = time\n",
    "df0[\"MyName\"] = \"Justin Winata\"\n",
    "df0.insert(0,\"FileName\",filename)\n",
    "\n",
    "# re-order columns\n",
    "df1 = df0[[\"MyName\",\"Tool\",\"Time\",\"FileName\",\"DateTime\",\n",
    "           \"Recipe\",\"Step\",\"Interval\",\"Pressure\",\"GasFlow\",\n",
    "           \"ElectricalPower\",\"Temperature\"]]\n",
    "\n",
    "# specify output path and file\n",
    "outpath = os.path.dirname(infile) + r\"\\output\"\n",
    "# if path does not exist, create path\n",
    "if not os.path.exists(outpath):\n",
    "    os.makedirs(outpath)\n",
    "outfile = outpath + r\"\\session2output.csv\"\n",
    "\n",
    "# convert DataFrame to file\n",
    "df1.to_csv(outfile,index=False)"
   ]
  },
  {
   "cell_type": "markdown",
   "metadata": {
    "slideshow": {
     "slide_type": "slide"
    }
   },
   "source": [
    "# Spyder\n",
    "\n",
    "And that's it for material on this session! Next, we're going to open Spyder and transfer code into a coding development. I've provided a code assist to follow, and we will use the same sample data file. The goal will be to replicate the file that we created in this session. Feel free to use this Notebook as a reference. You can copy and paste code blocks, but of course, it is best practice to type it out youself, even if you are copying the syntax directly."
   ]
  }
 ],
 "metadata": {
  "kernelspec": {
   "display_name": "Python 3",
   "language": "python",
   "name": "python3"
  },
  "language_info": {
   "codemirror_mode": {
    "name": "ipython",
    "version": 3
   },
   "file_extension": ".py",
   "mimetype": "text/x-python",
   "name": "python",
   "nbconvert_exporter": "python",
   "pygments_lexer": "ipython3",
   "version": "3.7.3"
  }
 },
 "nbformat": 4,
 "nbformat_minor": 2
}
