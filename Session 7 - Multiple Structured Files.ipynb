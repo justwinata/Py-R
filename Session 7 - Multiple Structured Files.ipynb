{
 "cells": [
  {
   "cell_type": "markdown",
   "metadata": {},
   "source": [
    "# Session 7\n",
    "Let's run through the same exercises as we did with Python. First, we'll deal with multiple structured files:"
   ]
  },
  {
   "cell_type": "markdown",
   "metadata": {},
   "source": [
    "First, let's get our input folder and the list of files in it:"
   ]
  },
  {
   "cell_type": "code",
   "execution_count": null,
   "metadata": {},
   "outputs": [],
   "source": [
    "inpath <- choose.dir()\n",
    "setwd(inpath)\n",
    "\n",
    "inpathfiles <- c(list.files(path = inpath,pattern = \"csv\",recursive = FALSE))\n",
    "inpathfiles"
   ]
  },
  {
   "cell_type": "markdown",
   "metadata": {},
   "source": [
    "Let's create our empty list, which has a slightly different syntax in R:"
   ]
  },
  {
   "cell_type": "code",
   "execution_count": null,
   "metadata": {},
   "outputs": [],
   "source": [
    "dfs = list()"
   ]
  },
  {
   "cell_type": "markdown",
   "metadata": {},
   "source": [
    "Next, we'll want to make a loop. R doesn't have the list comprehension `for` loop logic that Python uses, unfortunately. In order to deal with this, we'll need to get the length of the list of files, which we can get like this:"
   ]
  },
  {
   "cell_type": "code",
   "execution_count": null,
   "metadata": {},
   "outputs": [],
   "source": [
    "file_count <- length(inpathfiles) #log count\n",
    "file_count"
   ]
  },
  {
   "cell_type": "markdown",
   "metadata": {},
   "source": [
    "So let's create our loop:"
   ]
  },
  {
   "cell_type": "code",
   "execution_count": null,
   "metadata": {},
   "outputs": [],
   "source": [
    "for ( filename in 1:length(inpathfiles) ) {\n",
    "  file <- inpathfiles[filename]\n",
    "  \n",
    "  {\n",
    "    #print(\"Load file\")\n",
    "    df <- read.csv(file,header = TRUE,sep = \",\")\n",
    "    \n",
    "    dfs[[filename]] <- df\n",
    "  }\n",
    "}"
   ]
  },
  {
   "cell_type": "markdown",
   "metadata": {},
   "source": [
    "Next, I want to introduce R libraries. So far we have been working with pure core R, but just like we can import packages in Python, we can use libraries in R (you may need to install these first, which can easily be done in RStudio). Import a library using this command to import the `plyr` library:"
   ]
  },
  {
   "cell_type": "code",
   "execution_count": null,
   "metadata": {},
   "outputs": [],
   "source": [
    "library(plyr)"
   ]
  },
  {
   "cell_type": "markdown",
   "metadata": {},
   "source": [
    "The `plyr` library has the `rbind` function, or \"row bind\", which we can use to combine our list into one `DataFrame`:"
   ]
  },
  {
   "cell_type": "markdown",
   "metadata": {},
   "source": [
    "result=rbind.fill(dfs,df) "
   ]
  },
  {
   "cell_type": "markdown",
   "metadata": {},
   "source": [
    "Now, let's write it to a file:"
   ]
  },
  {
   "cell_type": "code",
   "execution_count": null,
   "metadata": {},
   "outputs": [],
   "source": [
    "write.csv(f2,\"write_TRD_combined_files.csv\")"
   ]
  },
  {
   "cell_type": "markdown",
   "metadata": {},
   "source": [
    "Similarly to setting `index=False` in `pandas`, we can set `row.names=FALSE` in R:"
   ]
  },
  {
   "cell_type": "code",
   "execution_count": null,
   "metadata": {},
   "outputs": [],
   "source": [
    "write.csv(f2,\"write_noRowNames_TRD_combined_files.csv\",row.names = FALSE))"
   ]
  },
  {
   "cell_type": "markdown",
   "metadata": {},
   "source": [
    "Let's look at another useful library called `data.table`, which can handle operations like writing a file much quicker. Look at the time difference!"
   ]
  },
  {
   "cell_type": "code",
   "execution_count": null,
   "metadata": {},
   "outputs": [],
   "source": [
    "library(data.table)\n",
    "system.time(fwrite(f2,\"fread_TRD_combined_files.csv\"))"
   ]
  },
  {
   "cell_type": "code",
   "execution_count": null,
   "metadata": {},
   "outputs": [],
   "source": [
    "system.time(write.csv(f2,\"write_TRD_combined_files.csv\"))"
   ]
  },
  {
   "cell_type": "markdown",
   "metadata": {},
   "source": [
    "# Exercise 2\n",
    "Let's do a practice of writing a script on your own using the data in the Exercise 2 folder. The end result should look something like this:"
   ]
  },
  {
   "cell_type": "code",
   "execution_count": null,
   "metadata": {},
   "outputs": [],
   "source": [
    "library(plyr)\n",
    "library(data.table)\n",
    "\n",
    "inpath <- choose.dir()\n",
    "setwd(inpath)\n",
    "\n",
    "inpathfiles <- c(list.files(path = inpath,pattern = \"TRD.CSV\",recursive = FALSE))\n",
    "\n",
    "dfs = list()\n",
    "for ( filename in 1:length(inpathfiles)) {\n",
    "  file <- inpathfiles[filename]\n",
    "  \n",
    "  {\n",
    "    #print(\"Load file\")\n",
    "    df <- read.csv(file,header = TRUE,sep = \",\")\n",
    "    \n",
    "    dfs[[filename]] <- f1\n",
    "  }\n",
    "}\n",
    "\n",
    "result=rbind.fill(dfs,df)\n",
    "\n",
    "fwrite(result,\"TRD_combined_files.csv\")"
   ]
  }
 ],
 "metadata": {
  "kernelspec": {
   "display_name": "R",
   "language": "R",
   "name": "ir"
  }
 },
 "nbformat": 4,
 "nbformat_minor": 2
}
