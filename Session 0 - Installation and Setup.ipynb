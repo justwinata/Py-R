{
 "cells": [
  {
   "cell_type": "markdown",
   "metadata": {
    "slideshow": {
     "slide_type": "slide"
    }
   },
   "source": [
    "# Jupyter Notebook\n",
    "This link has taken you to what is called a Jupyter Notebook. This is an interactive environment capable of integrating plain text, Python code, and R code. The Jupyter notebook will be used to present the material, as it is a powerful tool for demonstration, and having access to the notebooks is also a good source of reference in the future, and using the given link will keep things updated without having to re-download any files.\n",
    "\n",
    "The development, on the other hand, will be done in an integrated development environment, or IDE."
   ]
  },
  {
   "cell_type": "markdown",
   "metadata": {
    "slideshow": {
     "slide_type": "slide"
    }
   },
   "source": [
    "## Anaconda\n",
    "\n",
    "![Anaconda](img/00_anaconda.png)\n",
    "> [Download Link](https://www.anaconda.com/distribution/#windows)"
   ]
  },
  {
   "cell_type": "markdown",
   "metadata": {
    "slideshow": {
     "slide_type": "slide"
    }
   },
   "source": [
    "### Installing Anaconda\n",
    "\n",
    "Please download the Python 3.7 version of Anaconda for Windows Installer (this link tends to default to the macOS installer -- make sure you click on the Windows icon above the installer links)\n",
    "![Windows Installer for 3.7](img/00_download.png)"
   ]
  },
  {
   "cell_type": "markdown",
   "metadata": {
    "slideshow": {
     "slide_type": "slide"
    }
   },
   "source": [
    "Run the installer using the default settings:"
   ]
  },
  {
   "cell_type": "markdown",
   "metadata": {
    "slideshow": {
     "slide_type": "fragment"
    }
   },
   "source": [
    "Select \"Just Me\" for Users:\n",
    "\n",
    "![Users](img/00_install1.PNG)"
   ]
  },
  {
   "cell_type": "markdown",
   "metadata": {
    "slideshow": {
     "slide_type": "fragment"
    }
   },
   "source": [
    "Select the default destination folder in AppData/Local:\n",
    "![Destination](img/00_install2.PNG)"
   ]
  },
  {
   "cell_type": "markdown",
   "metadata": {
    "slideshow": {
     "slide_type": "slide"
    }
   },
   "source": [
    "Run the installer using the default settings:"
   ]
  },
  {
   "cell_type": "markdown",
   "metadata": {
    "slideshow": {
     "slide_type": "fragment"
    }
   },
   "source": [
    "Register Anaconda as your default Python 3.7 in Advanced Options:\n",
    "![Path](img/00_install3.PNG) "
   ]
  },
  {
   "cell_type": "markdown",
   "metadata": {
    "slideshow": {
     "slide_type": "fragment"
    }
   },
   "source": [
    "Let the install complete."
   ]
  },
  {
   "cell_type": "markdown",
   "metadata": {
    "slideshow": {
     "slide_type": "slide"
    }
   },
   "source": [
    "### Configuring Anaconda\n",
    "\n",
    "We will run an isolated environment for Python and R. "
   ]
  },
  {
   "cell_type": "markdown",
   "metadata": {
    "slideshow": {
     "slide_type": "slide"
    }
   },
   "source": [
    "Open Anaconda Navigator:\n",
    "![Start Menu](img/00_navigator_start.PNG)  \n",
    "It might take a while to load. This is normal.  \n",
    "Dismiss the popup, if applicable."
   ]
  },
  {
   "cell_type": "markdown",
   "metadata": {
    "slideshow": {
     "slide_type": "slide"
    }
   },
   "source": [
    "Navigate to the Environments tab:\n",
    "![Environments](img/00_anaconda_env.PNG)"
   ]
  },
  {
   "cell_type": "markdown",
   "metadata": {
    "slideshow": {
     "slide_type": "slide"
    }
   },
   "source": [
    "Click \"Create\" in the lower left:\n",
    "![Create](img/00_anaconda_create.PNG)"
   ]
  },
  {
   "cell_type": "markdown",
   "metadata": {
    "slideshow": {
     "slide_type": "slide"
    }
   },
   "source": [
    "Check R and select \"r\" in the drop-down.  \n",
    "Check Python and select \"3.7\" in the drop-down.\n",
    "Name your environment as desired.\n",
    "![Packages](img/00_anaconda_env_packages.PNG)\n",
    "\n",
    "Click \"Create\".\n",
    "\n",
    "Allow the environment to be created."
   ]
  },
  {
   "cell_type": "markdown",
   "metadata": {
    "slideshow": {
     "slide_type": "slide"
    }
   },
   "source": [
    "## Other Programs"
   ]
  },
  {
   "cell_type": "markdown",
   "metadata": {
    "slideshow": {
     "slide_type": "slide"
    }
   },
   "source": [
    "### Spyder\n",
    "\n",
    "We will be using an IDE called Spyder in this course.  \n",
    "There are many Python IDEs out there, including PyCharm, Jupyter Notebook/Jupyter Lab, Visual Studio Code.\n",
    "However, we will be using Spyder because it is quick to install via Anaconda, and because it has a strong resemblance to RStudio.\n",
    "![Spyder](img/00_spyder.png)"
   ]
  },
  {
   "cell_type": "markdown",
   "metadata": {
    "slideshow": {
     "slide_type": "slide"
    }
   },
   "source": [
    "### RStudio\n",
    "\n",
    "![RStudio](img/00_rstudio.png)\n",
    "RStudio is the IDE we will be using for R development. Again, there are many R IDEs out there, including Jupyter Notebook/Jupyter Lab, Visual Studio Code.\n",
    "However, RStudio is an extremely popular R IDE that is specifically geared towards R, and similarly to Spyder, it is quick to install via Anaconda and is very similar to Spyder, so this is what we will be using in this course."
   ]
  },
  {
   "cell_type": "markdown",
   "metadata": {
    "slideshow": {
     "slide_type": "slide"
    }
   },
   "source": [
    "### Jupyter\n",
    "\n",
    "![Jupyter](img/00_jupyter.png)\n",
    "\n",
    "Jupyter is optional."
   ]
  },
  {
   "cell_type": "markdown",
   "metadata": {
    "slideshow": {
     "slide_type": "slide"
    }
   },
   "source": [
    "As mentioned before, the program currently being used to view this material is called Jupyter Notebook. You'll notice that Notebook is by default installed with Anaconda when looking at your programs. The view you are currently looking at is through a third party called Binder, which renders an interactive copy of a Notebook. However, if you would like to have your own local copy and interact with these files, you will have to do so using a Jupyter program."
   ]
  },
  {
   "cell_type": "markdown",
   "metadata": {
    "slideshow": {
     "slide_type": "slide"
    }
   },
   "source": [
    "You'll also see a program called JupyterLab in the applications available in Anaconda. Our team recently attended SciPy, a conference held here in Austin, where Jupyter developers informed us of the deprecation of Jupyter Notebook and evolving into the new interface of JupyterLab.\n",
    "![JupyterLab](img/00_jupyterlab.png)"
   ]
  },
  {
   "cell_type": "markdown",
   "metadata": {
    "slideshow": {
     "slide_type": "slide"
    }
   },
   "source": [
    "We will not go much into detail about how to use Jupyter to it's full potential aside from navigating it and running code inside of it, as for actual development in our use cases, there is not much use for Jupyter. However, if you are interested, there are plenty of resources online, and feel free to ask me any questions regarding it as well."
   ]
  },
  {
   "cell_type": "markdown",
   "metadata": {
    "slideshow": {
     "slide_type": "slide"
    }
   },
   "source": [
    "## Installation\n",
    "In order to install Spyder, RStudio, and Jupyter, navigate to the home tab of Anaconda Navigator.\n",
    "![Home](img/00_anaconda_home.PNG)"
   ]
  },
  {
   "cell_type": "markdown",
   "metadata": {
    "slideshow": {
     "slide_type": "slide"
    }
   },
   "source": [
    "Here you will see the applications mentioned above.  \n",
    "> Click the \"Install\" buttons on each of these.\n",
    "\n",
    "Note: Anaconda will only allow one install at a time, so you will not be able to click install on another application before the previous one finishes.  \n",
    "When the install finishes, the button that previously said \"Install\" should now read \"Launch\".\n",
    "![Install](img/00_anaconda_spyder.PNG)"
   ]
  },
  {
   "cell_type": "markdown",
   "metadata": {
    "slideshow": {
     "slide_type": "slide"
    }
   },
   "source": [
    "When everything is installed and your environment is set up, your \"Home\" screen should now look like this:\n",
    "![Complete](img/00_anaconda_complete.PNG)"
   ]
  },
  {
   "cell_type": "markdown",
   "metadata": {
    "slideshow": {
     "slide_type": "slide"
    }
   },
   "source": [
    "## Configuration\n",
    "Finally, let's do a little bit of configuration for Spyder and RStudio."
   ]
  },
  {
   "cell_type": "markdown",
   "metadata": {
    "slideshow": {
     "slide_type": "slide"
    }
   },
   "source": [
    "### Spyder\n",
    "Launch the Spyder application from Anaconda Navigator.  \n",
    "Note: you will see that Spyder is now accessible from your Start Menu, but this requires some configuration to get running in the right environment. Please open Spyder via the Anaconda Navigator.\n",
    "\n",
    "Our end goal is to have Spyder look a little something like this:"
   ]
  },
  {
   "cell_type": "markdown",
   "metadata": {
    "slideshow": {
     "slide_type": "fragment"
    }
   },
   "source": [
    "![Spyder](img/00_spyder_overview.PNG)"
   ]
  },
  {
   "cell_type": "markdown",
   "metadata": {
    "slideshow": {
     "slide_type": "slide"
    }
   },
   "source": [
    "First, to get the window layout as pictured above, and to develop in an environment that feels close to RStudio, go to the toolbar and navigate to the following:  "
   ]
  },
  {
   "cell_type": "markdown",
   "metadata": {
    "slideshow": {
     "slide_type": "fragment"
    }
   },
   "source": [
    "`View > Window Layouts > RStudio Layout`\n",
    "![Layout](img/00_spyder_layout.png)"
   ]
  },
  {
   "cell_type": "markdown",
   "metadata": {
    "slideshow": {
     "slide_type": "slide"
    }
   },
   "source": [
    "I also prefer coding in a light text over dark background. It helps with eye-strain when staring at a screen all day, but feel free to look at the different color themes and pick which one you prefer.  \n",
    "Change the color preferences by doing the following:"
   ]
  },
  {
   "cell_type": "markdown",
   "metadata": {
    "slideshow": {
     "slide_type": "fragment"
    }
   },
   "source": [
    "`Tools > Preferences > Syntax Coloring > Monokai (or your preferred theme)`\n",
    "![Preferences](img/00_spyder_pref.png)"
   ]
  },
  {
   "cell_type": "markdown",
   "metadata": {
    "slideshow": {
     "slide_type": "slide"
    }
   },
   "source": [
    "`Tools > Preferences > Syntax Coloring > Monokai (or your preferred theme)`\n",
    "![Coloring](img/00_spyder_color.png)"
   ]
  },
  {
   "cell_type": "markdown",
   "metadata": {},
   "source": [
    "### RStudio\n",
    "Launch the RStudio application from Anaconda Navigator.\n",
    "Note: you will see that RStudio is now accessible from your Start Menu, but this requires some configuration to get running in the right environment. Please open RStudio via the Anaconda Navigator.\n",
    "\n",
    "Our end goal is to have Spyder look a little something like this:\n",
    "![Overview](img/00_rstudio_overview.PNG)"
   ]
  },
  {
   "cell_type": "markdown",
   "metadata": {
    "slideshow": {
     "slide_type": "slide"
    }
   },
   "source": [
    "Obviously the layout is already in RStudio layout, so we will just be changing the colors in RStudio.\n",
    "Change the color preferences by navigating to the toolbar and doing the following:"
   ]
  },
  {
   "cell_type": "markdown",
   "metadata": {
    "slideshow": {
     "slide_type": "fragment"
    }
   },
   "source": [
    "`Tools > Global Options > Appearance > Editor Theme: > Monokai (or your preferred theme)`\n",
    "![Preferences](img/00_rstudio_pref.PNG)"
   ]
  },
  {
   "cell_type": "markdown",
   "metadata": {
    "slideshow": {
     "slide_type": "slide"
    }
   },
   "source": [
    "`Tools > Global Options > Appearance > Editor Theme: > Monokai (or your preferred theme)`\n",
    "![Coloring](img/00_rstudio_color.png)"
   ]
  },
  {
   "cell_type": "markdown",
   "metadata": {
    "slideshow": {
     "slide_type": "slide"
    }
   },
   "source": [
    "# Wrap-up\n",
    "\n",
    "And that should be it! Hopefully no complications occurred, but hopefully we can address them during a break now."
   ]
  }
 ],
 "metadata": {
  "kernelspec": {
   "display_name": "Python 3",
   "language": "python",
   "name": "python3"
  },
  "language_info": {
   "codemirror_mode": {
    "name": "ipython",
    "version": 3
   },
   "file_extension": ".py",
   "mimetype": "text/x-python",
   "name": "python",
   "nbconvert_exporter": "python",
   "pygments_lexer": "ipython3",
   "version": "3.7.3"
  }
 },
 "nbformat": 4,
 "nbformat_minor": 2
}
